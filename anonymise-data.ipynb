{
 "cells": [
  {
   "cell_type": "code",
   "execution_count": 1,
   "id": "951f320c",
   "metadata": {
    "_cell_guid": "b1076dfc-b9ad-4769-8c92-a6c4dae69d19",
    "_uuid": "8f2839f25d086af736a60e9eeb907d3b93b6e0e5",
    "execution": {
     "iopub.execute_input": "2024-04-02T14:50:32.305178Z",
     "iopub.status.busy": "2024-04-02T14:50:32.304701Z",
     "iopub.status.idle": "2024-04-02T14:50:33.387256Z",
     "shell.execute_reply": "2024-04-02T14:50:33.385795Z"
    },
    "papermill": {
     "duration": 1.093391,
     "end_time": "2024-04-02T14:50:33.390180",
     "exception": false,
     "start_time": "2024-04-02T14:50:32.296789",
     "status": "completed"
    },
    "tags": []
   },
   "outputs": [
    {
     "name": "stdout",
     "output_type": "stream",
     "text": [
      "/kaggle/input/anonymous-input-data/anon_input.csv\n"
     ]
    }
   ],
   "source": [
    "# This Python 3 environment comes with many helpful analytics libraries installed\n",
    "# It is defined by the kaggle/python Docker image: https://github.com/kaggle/docker-python\n",
    "# For example, here's several helpful packages to load\n",
    "\n",
    "import numpy as np # linear algebra\n",
    "import pandas as pd # data processing, CSV file I/O (e.g. pd.read_csv)\n",
    "\n",
    "# Input data files are available in the read-only \"../input/\" directory\n",
    "# For example, running this (by clicking run or pressing Shift+Enter) will list all files under the input directory\n",
    "\n",
    "import os\n",
    "for dirname, _, filenames in os.walk('/kaggle/input'):\n",
    "    for filename in filenames:\n",
    "        print(os.path.join(dirname, filename))\n",
    "\n",
    "# You can write up to 20GB to the current directory (/kaggle/working/) that gets preserved as output when you create a version using \"Save & Run All\" \n",
    "# You can also write temporary files to /kaggle/temp/, but they won't be saved outside of the current session"
   ]
  },
  {
   "cell_type": "code",
   "execution_count": 2,
   "id": "41e29353",
   "metadata": {
    "execution": {
     "iopub.execute_input": "2024-04-02T14:50:33.404785Z",
     "iopub.status.busy": "2024-04-02T14:50:33.403871Z",
     "iopub.status.idle": "2024-04-02T14:50:33.425680Z",
     "shell.execute_reply": "2024-04-02T14:50:33.424503Z"
    },
    "papermill": {
     "duration": 0.033703,
     "end_time": "2024-04-02T14:50:33.430465",
     "exception": false,
     "start_time": "2024-04-02T14:50:33.396762",
     "status": "completed"
    },
    "tags": []
   },
   "outputs": [],
   "source": [
    "df = pd.read_csv('/kaggle/input/anonymous-input-data/anon_input.csv', sep=';')"
   ]
  },
  {
   "cell_type": "code",
   "execution_count": 3,
   "id": "3b863d24",
   "metadata": {
    "execution": {
     "iopub.execute_input": "2024-04-02T14:50:33.445205Z",
     "iopub.status.busy": "2024-04-02T14:50:33.444123Z",
     "iopub.status.idle": "2024-04-02T14:50:33.466357Z",
     "shell.execute_reply": "2024-04-02T14:50:33.464252Z"
    },
    "papermill": {
     "duration": 0.033938,
     "end_time": "2024-04-02T14:50:33.469878",
     "exception": false,
     "start_time": "2024-04-02T14:50:33.435940",
     "status": "completed"
    },
    "tags": []
   },
   "outputs": [
    {
     "data": {
      "text/html": [
       "<div>\n",
       "<style scoped>\n",
       "    .dataframe tbody tr th:only-of-type {\n",
       "        vertical-align: middle;\n",
       "    }\n",
       "\n",
       "    .dataframe tbody tr th {\n",
       "        vertical-align: top;\n",
       "    }\n",
       "\n",
       "    .dataframe thead th {\n",
       "        text-align: right;\n",
       "    }\n",
       "</style>\n",
       "<table border=\"1\" class=\"dataframe\">\n",
       "  <thead>\n",
       "    <tr style=\"text-align: right;\">\n",
       "      <th></th>\n",
       "      <th>Name</th>\n",
       "      <th>Order</th>\n",
       "    </tr>\n",
       "  </thead>\n",
       "  <tbody>\n",
       "    <tr>\n",
       "      <th>0</th>\n",
       "      <td>Thomas</td>\n",
       "      <td>chien</td>\n",
       "    </tr>\n",
       "    <tr>\n",
       "      <th>1</th>\n",
       "      <td>Paul</td>\n",
       "      <td>chat</td>\n",
       "    </tr>\n",
       "    <tr>\n",
       "      <th>2</th>\n",
       "      <td>Marie</td>\n",
       "      <td>souris</td>\n",
       "    </tr>\n",
       "    <tr>\n",
       "      <th>3</th>\n",
       "      <td>Pierre</td>\n",
       "      <td>souris</td>\n",
       "    </tr>\n",
       "    <tr>\n",
       "      <th>4</th>\n",
       "      <td>Sophie</td>\n",
       "      <td>aligator</td>\n",
       "    </tr>\n",
       "    <tr>\n",
       "      <th>5</th>\n",
       "      <td>Pierre</td>\n",
       "      <td>chat</td>\n",
       "    </tr>\n",
       "    <tr>\n",
       "      <th>6</th>\n",
       "      <td>Thomas</td>\n",
       "      <td>chat</td>\n",
       "    </tr>\n",
       "    <tr>\n",
       "      <th>7</th>\n",
       "      <td>Marie</td>\n",
       "      <td>singe</td>\n",
       "    </tr>\n",
       "    <tr>\n",
       "      <th>8</th>\n",
       "      <td>Marie</td>\n",
       "      <td>chien</td>\n",
       "    </tr>\n",
       "  </tbody>\n",
       "</table>\n",
       "</div>"
      ],
      "text/plain": [
       "     Name     Order\n",
       "0  Thomas     chien\n",
       "1    Paul      chat\n",
       "2   Marie    souris\n",
       "3  Pierre    souris\n",
       "4  Sophie  aligator\n",
       "5  Pierre      chat\n",
       "6  Thomas      chat\n",
       "7   Marie     singe\n",
       "8   Marie     chien"
      ]
     },
     "execution_count": 3,
     "metadata": {},
     "output_type": "execute_result"
    }
   ],
   "source": [
    "df"
   ]
  },
  {
   "cell_type": "markdown",
   "id": "23b4c0e5",
   "metadata": {
    "papermill": {
     "duration": 0.005684,
     "end_time": "2024-04-02T14:50:33.481312",
     "exception": false,
     "start_time": "2024-04-02T14:50:33.475628",
     "status": "completed"
    },
    "tags": []
   },
   "source": [
    "### Extract sorted unique names and orders"
   ]
  },
  {
   "cell_type": "code",
   "execution_count": 4,
   "id": "c5636cb3",
   "metadata": {
    "execution": {
     "iopub.execute_input": "2024-04-02T14:50:33.495098Z",
     "iopub.status.busy": "2024-04-02T14:50:33.494679Z",
     "iopub.status.idle": "2024-04-02T14:50:33.510384Z",
     "shell.execute_reply": "2024-04-02T14:50:33.508832Z"
    },
    "papermill": {
     "duration": 0.025661,
     "end_time": "2024-04-02T14:50:33.512960",
     "exception": false,
     "start_time": "2024-04-02T14:50:33.487299",
     "status": "completed"
    },
    "tags": []
   },
   "outputs": [
    {
     "name": "stdout",
     "output_type": "stream",
     "text": [
      "['Marie', 'Paul', 'Pierre', 'Sophie', 'Thomas']\n",
      "['aligator', 'chat', 'chien', 'singe', 'souris']\n"
     ]
    }
   ],
   "source": [
    "names = list(df['Name'].unique())\n",
    "orders = list(df['Order'].unique())\n",
    "names.sort()\n",
    "orders.sort()\n",
    "print(names)\n",
    "print(orders)"
   ]
  },
  {
   "cell_type": "code",
   "execution_count": 5,
   "id": "1292025a",
   "metadata": {
    "execution": {
     "iopub.execute_input": "2024-04-02T14:50:33.526538Z",
     "iopub.status.busy": "2024-04-02T14:50:33.526130Z",
     "iopub.status.idle": "2024-04-02T14:50:33.533433Z",
     "shell.execute_reply": "2024-04-02T14:50:33.532221Z"
    },
    "papermill": {
     "duration": 0.017183,
     "end_time": "2024-04-02T14:50:33.535997",
     "exception": false,
     "start_time": "2024-04-02T14:50:33.518814",
     "status": "completed"
    },
    "tags": []
   },
   "outputs": [
    {
     "data": {
      "text/plain": [
       "3"
      ]
     },
     "execution_count": 5,
     "metadata": {},
     "output_type": "execute_result"
    }
   ],
   "source": [
    "orders.index('singe')"
   ]
  },
  {
   "cell_type": "markdown",
   "id": "b456e89f",
   "metadata": {
    "papermill": {
     "duration": 0.005858,
     "end_time": "2024-04-02T14:50:33.547759",
     "exception": false,
     "start_time": "2024-04-02T14:50:33.541901",
     "status": "completed"
    },
    "tags": []
   },
   "source": [
    "### Replace names and orders by anonymised values"
   ]
  },
  {
   "cell_type": "code",
   "execution_count": 6,
   "id": "007a595d",
   "metadata": {
    "execution": {
     "iopub.execute_input": "2024-04-02T14:50:33.561831Z",
     "iopub.status.busy": "2024-04-02T14:50:33.561428Z",
     "iopub.status.idle": "2024-04-02T14:50:33.569066Z",
     "shell.execute_reply": "2024-04-02T14:50:33.567729Z"
    },
    "papermill": {
     "duration": 0.017754,
     "end_time": "2024-04-02T14:50:33.571831",
     "exception": false,
     "start_time": "2024-04-02T14:50:33.554077",
     "status": "completed"
    },
    "tags": []
   },
   "outputs": [],
   "source": [
    "df['Name'] = df['Name'].apply(lambda x: names.index(x))\n",
    "df['Order'] = df['Order'].apply(lambda x: orders.index(x))"
   ]
  },
  {
   "cell_type": "code",
   "execution_count": 7,
   "id": "95033533",
   "metadata": {
    "execution": {
     "iopub.execute_input": "2024-04-02T14:50:33.587600Z",
     "iopub.status.busy": "2024-04-02T14:50:33.587202Z",
     "iopub.status.idle": "2024-04-02T14:50:33.597905Z",
     "shell.execute_reply": "2024-04-02T14:50:33.596727Z"
    },
    "papermill": {
     "duration": 0.021418,
     "end_time": "2024-04-02T14:50:33.600805",
     "exception": false,
     "start_time": "2024-04-02T14:50:33.579387",
     "status": "completed"
    },
    "tags": []
   },
   "outputs": [
    {
     "data": {
      "text/html": [
       "<div>\n",
       "<style scoped>\n",
       "    .dataframe tbody tr th:only-of-type {\n",
       "        vertical-align: middle;\n",
       "    }\n",
       "\n",
       "    .dataframe tbody tr th {\n",
       "        vertical-align: top;\n",
       "    }\n",
       "\n",
       "    .dataframe thead th {\n",
       "        text-align: right;\n",
       "    }\n",
       "</style>\n",
       "<table border=\"1\" class=\"dataframe\">\n",
       "  <thead>\n",
       "    <tr style=\"text-align: right;\">\n",
       "      <th></th>\n",
       "      <th>Name</th>\n",
       "      <th>Order</th>\n",
       "    </tr>\n",
       "  </thead>\n",
       "  <tbody>\n",
       "    <tr>\n",
       "      <th>0</th>\n",
       "      <td>4</td>\n",
       "      <td>2</td>\n",
       "    </tr>\n",
       "    <tr>\n",
       "      <th>1</th>\n",
       "      <td>1</td>\n",
       "      <td>1</td>\n",
       "    </tr>\n",
       "    <tr>\n",
       "      <th>2</th>\n",
       "      <td>0</td>\n",
       "      <td>4</td>\n",
       "    </tr>\n",
       "    <tr>\n",
       "      <th>3</th>\n",
       "      <td>2</td>\n",
       "      <td>4</td>\n",
       "    </tr>\n",
       "    <tr>\n",
       "      <th>4</th>\n",
       "      <td>3</td>\n",
       "      <td>0</td>\n",
       "    </tr>\n",
       "    <tr>\n",
       "      <th>5</th>\n",
       "      <td>2</td>\n",
       "      <td>1</td>\n",
       "    </tr>\n",
       "    <tr>\n",
       "      <th>6</th>\n",
       "      <td>4</td>\n",
       "      <td>1</td>\n",
       "    </tr>\n",
       "    <tr>\n",
       "      <th>7</th>\n",
       "      <td>0</td>\n",
       "      <td>3</td>\n",
       "    </tr>\n",
       "    <tr>\n",
       "      <th>8</th>\n",
       "      <td>0</td>\n",
       "      <td>2</td>\n",
       "    </tr>\n",
       "  </tbody>\n",
       "</table>\n",
       "</div>"
      ],
      "text/plain": [
       "   Name  Order\n",
       "0     4      2\n",
       "1     1      1\n",
       "2     0      4\n",
       "3     2      4\n",
       "4     3      0\n",
       "5     2      1\n",
       "6     4      1\n",
       "7     0      3\n",
       "8     0      2"
      ]
     },
     "execution_count": 7,
     "metadata": {},
     "output_type": "execute_result"
    }
   ],
   "source": [
    "df"
   ]
  },
  {
   "cell_type": "markdown",
   "id": "ba657b9f",
   "metadata": {
    "papermill": {
     "duration": 0.005731,
     "end_time": "2024-04-02T14:50:33.613242",
     "exception": false,
     "start_time": "2024-04-02T14:50:33.607511",
     "status": "completed"
    },
    "tags": []
   },
   "source": [
    "### Write everything as a function"
   ]
  },
  {
   "cell_type": "code",
   "execution_count": 8,
   "id": "0f883661",
   "metadata": {
    "execution": {
     "iopub.execute_input": "2024-04-02T14:50:33.627101Z",
     "iopub.status.busy": "2024-04-02T14:50:33.626639Z",
     "iopub.status.idle": "2024-04-02T14:50:33.634513Z",
     "shell.execute_reply": "2024-04-02T14:50:33.633254Z"
    },
    "papermill": {
     "duration": 0.017905,
     "end_time": "2024-04-02T14:50:33.637144",
     "exception": false,
     "start_time": "2024-04-02T14:50:33.619239",
     "status": "completed"
    },
    "tags": []
   },
   "outputs": [],
   "source": [
    "def anonymise(df):\n",
    "    #create sorted list of unique Name and Order values\n",
    "    names = list(df['Name'].unique())\n",
    "    order = list(df['Order'].unique())\n",
    "    names.sort()\n",
    "    order.sort()\n",
    "    \n",
    "    #replace original values by anonymised ones\n",
    "    df['Name']  = df['Name'].apply(lambda x: names.index(x))\n",
    "    df['Order'] = df['Order'].apply(lambda x: orders.index(x)) \n",
    "    \n",
    "    return df"
   ]
  },
  {
   "cell_type": "markdown",
   "id": "c4cd022a",
   "metadata": {
    "papermill": {
     "duration": 0.005707,
     "end_time": "2024-04-02T14:50:33.648955",
     "exception": false,
     "start_time": "2024-04-02T14:50:33.643248",
     "status": "completed"
    },
    "tags": []
   },
   "source": [
    "### _(tests section)_"
   ]
  },
  {
   "cell_type": "code",
   "execution_count": 9,
   "id": "c8ea9e75",
   "metadata": {
    "execution": {
     "iopub.execute_input": "2024-04-02T14:50:33.662591Z",
     "iopub.status.busy": "2024-04-02T14:50:33.662169Z",
     "iopub.status.idle": "2024-04-02T14:50:33.668913Z",
     "shell.execute_reply": "2024-04-02T14:50:33.668097Z"
    },
    "papermill": {
     "duration": 0.01605,
     "end_time": "2024-04-02T14:50:33.670989",
     "exception": false,
     "start_time": "2024-04-02T14:50:33.654939",
     "status": "completed"
    },
    "tags": []
   },
   "outputs": [],
   "source": [
    "df = pd.read_csv('/kaggle/input/anonymous-input-data/anon_input.csv', sep=';')"
   ]
  },
  {
   "cell_type": "code",
   "execution_count": 10,
   "id": "eea984cb",
   "metadata": {
    "execution": {
     "iopub.execute_input": "2024-04-02T14:50:33.687168Z",
     "iopub.status.busy": "2024-04-02T14:50:33.686152Z",
     "iopub.status.idle": "2024-04-02T14:50:33.699184Z",
     "shell.execute_reply": "2024-04-02T14:50:33.697934Z"
    },
    "papermill": {
     "duration": 0.024529,
     "end_time": "2024-04-02T14:50:33.701782",
     "exception": false,
     "start_time": "2024-04-02T14:50:33.677253",
     "status": "completed"
    },
    "tags": []
   },
   "outputs": [
    {
     "data": {
      "text/html": [
       "<div>\n",
       "<style scoped>\n",
       "    .dataframe tbody tr th:only-of-type {\n",
       "        vertical-align: middle;\n",
       "    }\n",
       "\n",
       "    .dataframe tbody tr th {\n",
       "        vertical-align: top;\n",
       "    }\n",
       "\n",
       "    .dataframe thead th {\n",
       "        text-align: right;\n",
       "    }\n",
       "</style>\n",
       "<table border=\"1\" class=\"dataframe\">\n",
       "  <thead>\n",
       "    <tr style=\"text-align: right;\">\n",
       "      <th></th>\n",
       "      <th>Name</th>\n",
       "      <th>Order</th>\n",
       "    </tr>\n",
       "  </thead>\n",
       "  <tbody>\n",
       "    <tr>\n",
       "      <th>0</th>\n",
       "      <td>4</td>\n",
       "      <td>2</td>\n",
       "    </tr>\n",
       "    <tr>\n",
       "      <th>1</th>\n",
       "      <td>1</td>\n",
       "      <td>1</td>\n",
       "    </tr>\n",
       "    <tr>\n",
       "      <th>2</th>\n",
       "      <td>0</td>\n",
       "      <td>4</td>\n",
       "    </tr>\n",
       "    <tr>\n",
       "      <th>3</th>\n",
       "      <td>2</td>\n",
       "      <td>4</td>\n",
       "    </tr>\n",
       "    <tr>\n",
       "      <th>4</th>\n",
       "      <td>3</td>\n",
       "      <td>0</td>\n",
       "    </tr>\n",
       "    <tr>\n",
       "      <th>5</th>\n",
       "      <td>2</td>\n",
       "      <td>1</td>\n",
       "    </tr>\n",
       "    <tr>\n",
       "      <th>6</th>\n",
       "      <td>4</td>\n",
       "      <td>1</td>\n",
       "    </tr>\n",
       "    <tr>\n",
       "      <th>7</th>\n",
       "      <td>0</td>\n",
       "      <td>3</td>\n",
       "    </tr>\n",
       "    <tr>\n",
       "      <th>8</th>\n",
       "      <td>0</td>\n",
       "      <td>2</td>\n",
       "    </tr>\n",
       "  </tbody>\n",
       "</table>\n",
       "</div>"
      ],
      "text/plain": [
       "   Name  Order\n",
       "0     4      2\n",
       "1     1      1\n",
       "2     0      4\n",
       "3     2      4\n",
       "4     3      0\n",
       "5     2      1\n",
       "6     4      1\n",
       "7     0      3\n",
       "8     0      2"
      ]
     },
     "execution_count": 10,
     "metadata": {},
     "output_type": "execute_result"
    }
   ],
   "source": [
    "ano_df = anonymise(df)\n",
    "ano_df"
   ]
  }
 ],
 "metadata": {
  "kaggle": {
   "accelerator": "none",
   "dataSources": [
    {
     "datasetId": 4716780,
     "sourceId": 8008274,
     "sourceType": "datasetVersion"
    }
   ],
   "dockerImageVersionId": 30673,
   "isGpuEnabled": false,
   "isInternetEnabled": true,
   "language": "python",
   "sourceType": "notebook"
  },
  "kernelspec": {
   "display_name": "Python 3",
   "language": "python",
   "name": "python3"
  },
  "language_info": {
   "codemirror_mode": {
    "name": "ipython",
    "version": 3
   },
   "file_extension": ".py",
   "mimetype": "text/x-python",
   "name": "python",
   "nbconvert_exporter": "python",
   "pygments_lexer": "ipython3",
   "version": "3.10.13"
  },
  "papermill": {
   "default_parameters": {},
   "duration": 5.908519,
   "end_time": "2024-04-02T14:50:34.230261",
   "environment_variables": {},
   "exception": null,
   "input_path": "__notebook__.ipynb",
   "output_path": "__notebook__.ipynb",
   "parameters": {},
   "start_time": "2024-04-02T14:50:28.321742",
   "version": "2.5.0"
  }
 },
 "nbformat": 4,
 "nbformat_minor": 5
}
